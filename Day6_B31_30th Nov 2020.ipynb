{
 "cells": [
  {
   "cell_type": "code",
   "execution_count": null,
   "metadata": {},
   "outputs": [],
   "source": [
    "#Introduction to looping statement"
   ]
  },
  {
   "cell_type": "code",
   "execution_count": null,
   "metadata": {},
   "outputs": [],
   "source": [
    "students = ['vijaya', 'ghaleb', 'vimal', 'suresh', 'keerthi', 'shameem']"
   ]
  },
  {
   "cell_type": "code",
   "execution_count": null,
   "metadata": {},
   "outputs": [],
   "source": [
    "#Req - Appreciate each and every student in the above list for submitting their work regularly"
   ]
  },
  {
   "cell_type": "code",
   "execution_count": 3,
   "metadata": {},
   "outputs": [
    {
     "name": "stdout",
     "output_type": "stream",
     "text": [
      "keep up the good work,Vijaya\n"
     ]
    }
   ],
   "source": [
    "students = ['vijaya', 'ghaleb', 'vimal', 'suresh', 'keerthi', 'shameem']\n",
    "print (f\"keep up the good work,{students[0].title()}\")"
   ]
  },
  {
   "cell_type": "code",
   "execution_count": null,
   "metadata": {},
   "outputs": [],
   "source": [
    "# General syntax of for loop"
   ]
  },
  {
   "cell_type": "code",
   "execution_count": null,
   "metadata": {},
   "outputs": [],
   "source": [
    "#for temp variable in main variable:\n",
    "     print(temp variable)   #This gap is called indentation. Gap needs to be provided. Else it will throw error "
   ]
  },
  {
   "cell_type": "code",
   "execution_count": 5,
   "metadata": {},
   "outputs": [
    {
     "name": "stdout",
     "output_type": "stream",
     "text": [
      "keep up the good work, Vijaya\n",
      "keep up the good work, Ghaleb\n",
      "keep up the good work, Vimal\n",
      "keep up the good work, Suresh\n",
      "keep up the good work, Keerthi\n",
      "keep up the good work, Shameem\n"
     ]
    }
   ],
   "source": [
    "students = ['vijaya', 'ghaleb', 'vimal', 'suresh', 'keerthi', 'shameem']\n",
    "for x in students:\n",
    "    print(f\"keep up the good work, {x.title()}\")"
   ]
  },
  {
   "cell_type": "code",
   "execution_count": 6,
   "metadata": {},
   "outputs": [
    {
     "name": "stdout",
     "output_type": "stream",
     "text": [
      "vijaya\n",
      "ghaleb\n",
      "vimal\n",
      "suresh\n",
      "keerthi\n",
      "shameem\n"
     ]
    }
   ],
   "source": [
    "for a in students:\n",
    "    print(a)"
   ]
  },
  {
   "cell_type": "code",
   "execution_count": 7,
   "metadata": {},
   "outputs": [
    {
     "name": "stdout",
     "output_type": "stream",
     "text": [
      "keep up the good work,Vijaya\n",
      "I am looking forward to receive all you practise files, Vijaya\n",
      "keep up the good work,Ghaleb\n",
      "I am looking forward to receive all you practise files, Ghaleb\n",
      "keep up the good work,Vimal\n",
      "I am looking forward to receive all you practise files, Vimal\n",
      "keep up the good work,Suresh\n",
      "I am looking forward to receive all you practise files, Suresh\n",
      "keep up the good work,Keerthi\n",
      "I am looking forward to receive all you practise files, Keerthi\n",
      "keep up the good work,Shameem\n",
      "I am looking forward to receive all you practise files, Shameem\n"
     ]
    }
   ],
   "source": [
    "for x in students:\n",
    "    print (f\"keep up the good work,{x.title()}\")\n",
    "    print (f\"I am looking forward to receive all you practise files, {x.title()}\")"
   ]
  },
  {
   "cell_type": "code",
   "execution_count": 8,
   "metadata": {},
   "outputs": [
    {
     "name": "stdout",
     "output_type": "stream",
     "text": [
      "keep up the good work,Vijaya\n",
      "I am looking forward to receive all you practise files, Vijaya\n",
      "\n",
      "keep up the good work,Ghaleb\n",
      "I am looking forward to receive all you practise files, Ghaleb\n",
      "\n",
      "keep up the good work,Vimal\n",
      "I am looking forward to receive all you practise files, Vimal\n",
      "\n",
      "keep up the good work,Suresh\n",
      "I am looking forward to receive all you practise files, Suresh\n",
      "\n",
      "keep up the good work,Keerthi\n",
      "I am looking forward to receive all you practise files, Keerthi\n",
      "\n",
      "keep up the good work,Shameem\n",
      "I am looking forward to receive all you practise files, Shameem\n",
      "\n"
     ]
    }
   ],
   "source": [
    "for x in students:\n",
    "    print (f\"keep up the good work,{x.title()}\")\n",
    "    print (f\"I am looking forward to receive all you practise files, {x.title()}\\n\")\n"
   ]
  },
  {
   "cell_type": "code",
   "execution_count": null,
   "metadata": {},
   "outputs": [],
   "source": [
    "# Adding statement out of the loop"
   ]
  },
  {
   "cell_type": "code",
   "execution_count": null,
   "metadata": {},
   "outputs": [],
   "source": [
    "#Convey thanks to all for joining class"
   ]
  },
  {
   "cell_type": "code",
   "execution_count": 10,
   "metadata": {},
   "outputs": [
    {
     "name": "stdout",
     "output_type": "stream",
     "text": [
      "keep up the good work,Vijaya\n",
      "I am looking forward to receive all you practise files, Vijaya\n",
      "\n",
      "keep up the good work,Ghaleb\n",
      "I am looking forward to receive all you practise files, Ghaleb\n",
      "\n",
      "keep up the good work,Vimal\n",
      "I am looking forward to receive all you practise files, Vimal\n",
      "\n",
      "keep up the good work,Suresh\n",
      "I am looking forward to receive all you practise files, Suresh\n",
      "\n",
      "keep up the good work,Keerthi\n",
      "I am looking forward to receive all you practise files, Keerthi\n",
      "\n",
      "keep up the good work,Shameem\n",
      "I am looking forward to receive all you practise files, Shameem\n",
      "\n",
      "Thanks everyone for joining the class\n"
     ]
    }
   ],
   "source": [
    "for x in students:\n",
    "    print (f\"keep up the good work,{x.title()}\")\n",
    "    print (f\"I am looking forward to receive all you practise files, {x.title()}\\n\")\n",
    "print(\"Thanks everyone for joining the class\")   # This will be executed only once as this written out of the loop"
   ]
  },
  {
   "cell_type": "code",
   "execution_count": null,
   "metadata": {},
   "outputs": [],
   "source": [
    "#Organising the lists  #Count Total number of cars"
   ]
  },
  {
   "cell_type": "code",
   "execution_count": 13,
   "metadata": {},
   "outputs": [
    {
     "data": {
      "text/plain": [
       "6"
      ]
     },
     "execution_count": 13,
     "metadata": {},
     "output_type": "execute_result"
    }
   ],
   "source": [
    "cars = ['Suzuki', 'BMW', 'KIA', 'Benz', 'AUDI','HONDA']\n",
    "len(cars)"
   ]
  },
  {
   "cell_type": "code",
   "execution_count": null,
   "metadata": {},
   "outputs": [],
   "source": []
  },
  {
   "cell_type": "code",
   "execution_count": null,
   "metadata": {},
   "outputs": [],
   "source": []
  }
 ],
 "metadata": {
  "kernelspec": {
   "display_name": "Python 3",
   "language": "python",
   "name": "python3"
  },
  "language_info": {
   "codemirror_mode": {
    "name": "ipython",
    "version": 3
   },
   "file_extension": ".py",
   "mimetype": "text/x-python",
   "name": "python",
   "nbconvert_exporter": "python",
   "pygments_lexer": "ipython3",
   "version": "3.8.5"
  }
 },
 "nbformat": 4,
 "nbformat_minor": 4
}
